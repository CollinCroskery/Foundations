{
 "cells": [
  {
   "cell_type": "code",
   "execution_count": 1,
   "metadata": {
    "scrolled": false
   },
   "outputs": [],
   "source": [
    "# !pip install lmfit\n",
    "\n",
    "import numpy as np\n"
   ]
  },
  {
   "cell_type": "code",
   "execution_count": 2,
   "metadata": {},
   "outputs": [],
   "source": [
    "from lmfit import Minimizer, Parameters\n"
   ]
  },
  {
   "cell_type": "code",
   "execution_count": 3,
   "metadata": {},
   "outputs": [],
   "source": [
    "\n",
    "def func(pars, x, data=None):\n",
    "    a, b, c = pars['a'], pars['b'], pars['c']\n",
    "    model = a * np.exp(-b*x) + c\n",
    "    if data is None:\n",
    "        return model\n",
    "    return model - data\n",
    "\n",
    "def dfunc(pars, x, data=None):\n",
    "    a, b = pars['a'], pars['b']\n",
    "    v = np.exp(-b*x)\n",
    "    return np.array([v, -a*x*v, np.ones(len(x))])\n",
    "\n",
    "def f(var, x):\n",
    "    return var[0] * np.exp(-var[1]*x) + var[2]\n",
    "\n",
    "\n",
    "params = Parameters()\n",
    "params.add('a', value=10)\n",
    "params.add('b', value=10)\n",
    "params.add('c', value=10)"
   ]
  },
  {
   "cell_type": "code",
   "execution_count": 6,
   "metadata": {},
   "outputs": [
    {
     "data": {
      "text/html": [
       "<table><tr><th> name </th><th> value </th><th> initial value </th><th> min </th><th> max </th><th> vary </th></tr><tr><td> a </td><td>  10.0000000 </td><td> 10 </td><td>        -inf </td><td>         inf </td><td> True </td></tr><tr><td> b </td><td>  10.0000000 </td><td> 10 </td><td>        -inf </td><td>         inf </td><td> True </td></tr><tr><td> c </td><td>  10.0000000 </td><td> 10 </td><td>        -inf </td><td>         inf </td><td> True </td></tr></table>"
      ],
      "text/plain": [
       "Parameters([('a', <Parameter 'a', value=10, bounds=[-inf:inf]>),\n",
       "            ('b', <Parameter 'b', value=10, bounds=[-inf:inf]>),\n",
       "            ('c', <Parameter 'c', value=10, bounds=[-inf:inf]>)])"
      ]
     },
     "metadata": {},
     "output_type": "display_data"
    }
   ],
   "source": [
    "display(params)"
   ]
  },
  {
   "cell_type": "code",
   "execution_count": 4,
   "metadata": {},
   "outputs": [],
   "source": [
    "a, b, c = 2.5, 1.3, 0.8\n",
    "x = np.linspace(0, 4, 50)\n",
    "y = f([a, b, c], x)\n",
    "data = y + 0.15*np.random.normal(size=x.size)\n",
    "\n",
    "# fit without analytic derivative\n",
    "min1 = Minimizer(func, params, fcn_args=(x,), fcn_kws={'data': data})\n",
    "out1 = min1.leastsq()\n",
    "fit1 = func(out1.params, x)\n",
    "\n",
    "# fit with analytic derivative\n",
    "min2 = Minimizer(func, params, fcn_args=(x,), fcn_kws={'data': data})\n",
    "out2 = min2.leastsq(Dfun=dfunc, col_deriv=1)\n",
    "fit2 = func(out2.params, x)"
   ]
  },
  {
   "cell_type": "code",
   "execution_count": 8,
   "metadata": {},
   "outputs": [
    {
     "data": {
      "text/html": [
       "<h2>Fit Statistics</h2><table><tr><td>fitting method</td><td>leastsq</td><td></td></tr><tr><td># function evals</td><td>36</td><td></td></tr><tr><td># data points</td><td>50</td><td></td></tr><tr><td># variables</td><td>3</td><td></td></tr><tr><td>chi-square</td><td> 1.14376595</td><td></td></tr><tr><td>reduced chi-square</td><td> 0.02433545</td><td></td></tr><tr><td>Akaike info crit.</td><td>-182.884836</td><td></td></tr><tr><td>Bayesian info crit.</td><td>-177.148767</td><td></td></tr></table><h2>Variables</h2><table><tr><th> name </th><th> value </th><th> standard error </th><th> relative error </th><th> initial value </th><th> min </th><th> max </th><th> vary </th></tr><tr><td> a </td><td>  2.47965116 </td><td>  0.09382497 </td><td> (3.78%) </td><td> 10 </td><td>        -inf </td><td>         inf </td><td> True </td></tr><tr><td> b </td><td>  1.35163294 </td><td>  0.10894826 </td><td> (8.06%) </td><td> 10 </td><td>        -inf </td><td>         inf </td><td> True </td></tr><tr><td> c </td><td>  0.77336008 </td><td>  0.03958481 </td><td> (5.12%) </td><td> 10 </td><td>        -inf </td><td>         inf </td><td> True </td></tr></table><h2>Correlations (unreported correlations are < 0.100)</h2><table><tr><td>b</td><td>c</td><td>0.7174</td></tr><tr><td>a</td><td>b</td><td>0.3804</td></tr><tr><td>a</td><td>c</td><td>-0.1137</td></tr></table>"
      ],
      "text/plain": [
       "<lmfit.minimizer.MinimizerResult at 0x1a86af2bd48>"
      ]
     },
     "metadata": {},
     "output_type": "display_data"
    }
   ],
   "source": [
    "display(out1)"
   ]
  },
  {
   "cell_type": "code",
   "execution_count": 5,
   "metadata": {},
   "outputs": [
    {
     "name": "stdout",
     "output_type": "stream",
     "text": [
      "\n",
      "\"true\" parameters are: a = 2.500, b = 1.300, c = 0.800\n",
      "\n",
      "==============================================\n",
      "Statistic/Parameter|   Without   | With      |\n",
      "----------------------------------------------\n",
      "N Function Calls   |    27       |     9     |\n",
      "Chi-square         |   1.5473    |   1.5473  |\n",
      "   a               |   2.6852    |   2.6852  |\n",
      "   b               |   1.3979    |   1.3979  |\n",
      "   c               |   0.7609    |   0.7609  |\n",
      "----------------------------------------------\n",
      "\n"
     ]
    }
   ],
   "source": [
    "print('''\n",
    "\"true\" parameters are: a = %.3f, b = %.3f, c = %.3f\n",
    "\n",
    "==============================================\n",
    "Statistic/Parameter|   Without   | With      |\n",
    "----------------------------------------------\n",
    "N Function Calls   |   %3i       |   %3i     |\n",
    "Chi-square         |   %.4f    |   %.4f  |\n",
    "   a               |   %.4f    |   %.4f  |\n",
    "   b               |   %.4f    |   %.4f  |\n",
    "   c               |   %.4f    |   %.4f  |\n",
    "----------------------------------------------\n",
    "''' % (a, b, c,\n",
    "       out1.nfev, out2.nfev,\n",
    "       out1.chisqr, out2.chisqr,\n",
    "       out1.params['a'], out2.params['a'],\n",
    "       out1.params['b'], out2.params['b'],\n",
    "       out1.params['c'], out2.params['c']))"
   ]
  },
  {
   "cell_type": "code",
   "execution_count": null,
   "metadata": {},
   "outputs": [],
   "source": [
    "################### TBD #########################"
   ]
  }
 ],
 "metadata": {
  "kernelspec": {
   "display_name": "Python 3",
   "language": "python",
   "name": "python3"
  },
  "language_info": {
   "codemirror_mode": {
    "name": "ipython",
    "version": 3
   },
   "file_extension": ".py",
   "mimetype": "text/x-python",
   "name": "python",
   "nbconvert_exporter": "python",
   "pygments_lexer": "ipython3",
   "version": "3.7.5"
  }
 },
 "nbformat": 4,
 "nbformat_minor": 2
}
