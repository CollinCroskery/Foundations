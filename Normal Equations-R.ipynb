{
 "cells": [
  {
   "cell_type": "code",
   "execution_count": 1,
   "metadata": {
    "scrolled": true
   },
   "outputs": [],
   "source": [
    "# install.packages(\"rlang\")\n",
    "suppressMessages(library(tidyverse))\n",
    "suppressMessages(library(odbc))\n"
   ]
  },
  {
   "cell_type": "code",
   "execution_count": 2,
   "metadata": {},
   "outputs": [],
   "source": [
    "con2 = dbConnect(odbc::odbc(), Driver = \"SQL Server\", Server = \"analyticslab.database.windows.net\", \n",
    "    Port = \"1433\", Database = \"Accounting\", UID = \"Student\", \n",
    "    PWD = \"Acct7397\")"
   ]
  },
  {
   "cell_type": "code",
   "execution_count": 3,
   "metadata": {
    "scrolled": true
   },
   "outputs": [
    {
     "data": {
      "text/html": [
       "<dl class=dl-horizontal>\n",
       "\t<dt>(Intercept)</dt>\n",
       "\t\t<dd>2.92109991240514</dd>\n",
       "\t<dt>TV</dt>\n",
       "\t\t<dd>0.0457548151010761</dd>\n",
       "\t<dt>Radio</dt>\n",
       "\t\t<dd>0.187994226620309</dd>\n",
       "</dl>\n"
      ],
      "text/latex": [
       "\\begin{description*}\n",
       "\\item[(Intercept)] 2.92109991240514\n",
       "\\item[TV] 0.0457548151010761\n",
       "\\item[Radio] 0.187994226620309\n",
       "\\end{description*}\n"
      ],
      "text/markdown": [
       "(Intercept)\n",
       ":   2.92109991240514TV\n",
       ":   0.0457548151010761Radio\n",
       ":   0.187994226620309\n",
       "\n"
      ],
      "text/plain": [
       "(Intercept)          TV       Radio \n",
       " 2.92109991  0.04575482  0.18799423 "
      ]
     },
     "metadata": {},
     "output_type": "display_data"
    }
   ],
   "source": [
    "Advertising <-  dbGetQuery(con2,\"\n",
    "SELECT \n",
    "                           [TV]\n",
    "                           ,[Radio]\n",
    "                           ,[Sales]\n",
    "                           FROM [dbo].[Advertising]\n",
    "                           \")\n",
    "\n",
    "mFit <- lm(Sales ~ TV + Radio, data = Advertising)\n",
    "mFit$coefficients\n",
    "Advertising$yhat <- predict(mFit, Advertising)\n"
   ]
  },
  {
   "cell_type": "code",
   "execution_count": 4,
   "metadata": {},
   "outputs": [
    {
     "data": {
      "text/html": [
       "<dl class=dl-horizontal>\n",
       "\t<dt>(Intercept)</dt>\n",
       "\t\t<dd>2.92109991240514</dd>\n",
       "\t<dt>TV</dt>\n",
       "\t\t<dd>0.0457548151010762</dd>\n",
       "\t<dt>Radio</dt>\n",
       "\t\t<dd>0.187994226620309</dd>\n",
       "</dl>\n"
      ],
      "text/latex": [
       "\\begin{description*}\n",
       "\\item[(Intercept)] 2.92109991240514\n",
       "\\item[TV] 0.0457548151010762\n",
       "\\item[Radio] 0.187994226620309\n",
       "\\end{description*}\n"
      ],
      "text/markdown": [
       "(Intercept)\n",
       ":   2.92109991240514TV\n",
       ":   0.0457548151010762Radio\n",
       ":   0.187994226620309\n",
       "\n"
      ],
      "text/plain": [
       "(Intercept)          TV       Radio \n",
       " 2.92109991  0.04575482  0.18799423 "
      ]
     },
     "metadata": {},
     "output_type": "display_data"
    },
    {
     "data": {
      "image/png": "[encoded data removed]",
      "text/plain": [
       "plot without title"
      ]
     },
     "metadata": {
      "image/png": {
       "height": 420,
       "width": 420
      },
      "text/plain": {
       "height": 420,
       "width": 420
      }
     },
     "output_type": "display_data"
    }
   ],
   "source": [
    "mFit <- lm(Sales ~ TV + Radio, data = Advertising)\n",
    "mFit$coefficients\n",
    "Advertising$yhat <- predict(mFit, Advertising)\n",
    "\n",
    "\n",
    "p = ggplot (aes(x = TV, y = Sales), data = Advertising) + \n",
    "  geom_point(aes(x = TV, y = yhat))\n",
    "p"
   ]
  },
  {
   "cell_type": "code",
   "execution_count": 5,
   "metadata": {},
   "outputs": [
    {
     "data": {
      "text/html": [
       "<table>\n",
       "<thead><tr><th></th><th scope=col>Sales</th></tr></thead>\n",
       "<tbody>\n",
       "\t<tr><th scope=row>1</th><td>2.92109991</td></tr>\n",
       "\t<tr><th scope=row>TV</th><td>0.04575482</td></tr>\n",
       "\t<tr><th scope=row>Radio</th><td>0.18799423</td></tr>\n",
       "</tbody>\n",
       "</table>\n"
      ],
      "text/latex": [
       "\\begin{tabular}{r|l}\n",
       "  & Sales\\\\\n",
       "\\hline\n",
       "\t1 & 2.92109991\\\\\n",
       "\tTV & 0.04575482\\\\\n",
       "\tRadio & 0.18799423\\\\\n",
       "\\end{tabular}\n"
      ],
      "text/markdown": [
       "\n",
       "| <!--/--> | Sales |\n",
       "|---|---|\n",
       "| 1 | 2.92109991 |\n",
       "| TV | 0.04575482 |\n",
       "| Radio | 0.18799423 |\n",
       "\n"
      ],
      "text/plain": [
       "      Sales     \n",
       "1     2.92109991\n",
       "TV    0.04575482\n",
       "Radio 0.18799423"
      ]
     },
     "metadata": {},
     "output_type": "display_data"
    },
    {
     "name": "stdout",
     "output_type": "stream",
     "text": [
      "'data.frame':\t200 obs. of  4 variables:\n",
      " $ TV   : num  230 200 135 222 296 ...\n",
      " $ Radio: num  37.8 2.6 41.7 4.3 36.3 10.1 17.2 34.3 46.4 11 ...\n",
      " $ Sales: num  22.1 10.6 17.2 11.7 23.8 14.8 14.7 20.7 19.2 7.2 ...\n",
      " $ yhat : num  20.6 12.6 16.9 13.9 23.3 ...\n"
     ]
    },
    {
     "data": {
      "image/png": "[encoded data removed]",
      "text/plain": [
       "plot without title"
      ]
     },
     "metadata": {
      "image/png": {
       "height": 420,
       "width": 420
      },
      "text/plain": {
       "height": 420,
       "width": 420
      }
     },
     "output_type": "display_data"
    }
   ],
   "source": [
    "# Normal Equations Solution - refer to Python file and Slides\n",
    "\n",
    "vY <- as.matrix(dplyr::select(Advertising, Sales)) # set up y values in matrix                        \n",
    "mX <- as.matrix(cbind(1, dplyr::select(Advertising, TV, Radio))) # set up x values in matrix\n",
    "vBeta <- solve(t(mX)%*%mX, t(mX)%*%vY) # solve using normal equations                    \n",
    "vBeta\n",
    "\n",
    "str(Advertising)\n",
    "# Predictions using normal equations\n",
    "\n",
    "vBeta2 <- as.numeric(vBeta)\n",
    "Advertising$neY <- t(vBeta2%*%t(mX)) # 3 columns on left * 3 rows on right (after transpose)\n",
    "# transpose different than pyhon bc lm stores coef in vector vs hoz array\n",
    "\n",
    "# compare predictions using NE vs lm - should be the same\n",
    "\n",
    "p = p + \n",
    "  geom_point(aes(x = TV, y = neY), data = Advertising, color = \"red\")\n",
    "p\n"
   ]
  },
  {
   "cell_type": "code",
   "execution_count": null,
   "metadata": {},
   "outputs": [],
   "source": [
    "#################### CHAnGE TO PLOTLY ######################"
   ]
  },
  {
   "cell_type": "code",
   "execution_count": null,
   "metadata": {},
   "outputs": [],
   "source": []
  }
 ],
 "metadata": {
  "kernelspec": {
   "display_name": "R",
   "language": "R",
   "name": "ir"
  },
  "language_info": {
   "codemirror_mode": "r",
   "file_extension": ".r",
   "mimetype": "text/x-r-source",
   "name": "R",
   "pygments_lexer": "r",
   "version": "3.6.1"
  }
 },
 "nbformat": 4,
 "nbformat_minor": 2
}
