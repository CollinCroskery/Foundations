{
 "cells": [
  {
   "cell_type": "code",
   "execution_count": 7,
   "metadata": {},
   "outputs": [],
   "source": [
    "suppressMessages(library(pracma))\n",
    "suppressMessages(library(tidyverse))\n",
    "suppressMessages(library(ggplot2))"
   ]
  },
  {
   "cell_type": "code",
   "execution_count": 8,
   "metadata": {},
   "outputs": [],
   "source": [
    "QR.regression <- function(y, X)\n",
    "{\n",
    "  nr <- length(y)\n",
    "  nc <- NCOL(X)\n",
    "  \n",
    "  for (j in seq_len(nc))\n",
    "  {\n",
    "    id <- seq.int(j, nr) \n",
    "    sigma <- sum(X[id,j]^2) \n",
    "    s <- sqrt(sigma) \n",
    "    diag_ej <- X[j,j] \n",
    "    gamma <- 1.0 / (sigma + abs(s * diag_ej)) \n",
    "    kappa <- if (diag_ej < 0) s else -s \n",
    "    X[j,j] <- X[j,j] - kappa\n",
    "    if (j < nc)\n",
    "      for (k in seq.int(j+1, nc))\n",
    "      {\n",
    "        yPrime <- sum(X[id,j] * X[id,k]) * gamma\n",
    "        X[id,k] <- X[id,k] - X[id,j] * yPrime\n",
    "      }\n",
    "    yPrime <- sum(X[id,j] * y[id]) * gamma\n",
    "    y[id] <- y[id] - X[id,j] * yPrime\n",
    "    X[j,j] <- kappa\n",
    "  } # end Householder\n",
    "  \n",
    "  # residual sum of squares\n",
    "  rss <- sum(y[seq.int(nc+1, nr)]^2)\n",
    "  \n",
    "  # Backsolve\n",
    "  beta <- rep(NA, nc)\n",
    "  for (j in seq.int(nc, 1))\n",
    "  {\n",
    "    beta[j] <- y[j]\n",
    "    if (j < nc)\n",
    "      for (i in seq.int(j+1, nc))\n",
    "        beta[j] <- beta[j] - X[j,i] * beta[i]\n",
    "      beta[j] <- beta[j] / X[j,j]\n",
    "  }\n",
    "  \n",
    "  # set zeros in the lower triangular side of X (which stores) \n",
    "  # not really necessary, this is just to return R for illustration\n",
    "  for (i in seq_len(ncol(X)))\n",
    "    X[seq.int(i+1, nr),i] <- 0\n",
    "    list(R=X[1:nc,1:nc], y=y, beta=beta, rss=rss)\n",
    "}\n"
   ]
  },
  {
   "cell_type": "code",
   "execution_count": 9,
   "metadata": {},
   "outputs": [
    {
     "data": {
      "text/html": [
       "<dl class=dl-horizontal>\n",
       "\t<dt>(Intercept)</dt>\n",
       "\t\t<dd>3.5</dd>\n",
       "\t<dt>X1</dt>\n",
       "\t\t<dd>1.4</dd>\n",
       "</dl>\n"
      ],
      "text/latex": [
       "\\begin{description*}\n",
       "\\item[(Intercept)] 3.5\n",
       "\\item[X1] 1.4\n",
       "\\end{description*}\n"
      ],
      "text/markdown": [
       "(Intercept)\n",
       ":   3.5X1\n",
       ":   1.4\n",
       "\n"
      ],
      "text/plain": [
       "(Intercept)          X1 \n",
       "        3.5         1.4 "
      ]
     },
     "metadata": {},
     "output_type": "display_data"
    },
    {
     "data": {
      "text/html": [
       "<ol class=list-inline>\n",
       "\t<li>3.5</li>\n",
       "\t<li>1.4</li>\n",
       "</ol>\n"
      ],
      "text/latex": [
       "\\begin{enumerate*}\n",
       "\\item 3.5\n",
       "\\item 1.4\n",
       "\\end{enumerate*}\n"
      ],
      "text/markdown": [
       "1. 3.5\n",
       "2. 1.4\n",
       "\n",
       "\n"
      ],
      "text/plain": [
       "[1] 3.5 1.4"
      ]
     },
     "metadata": {},
     "output_type": "display_data"
    },
    {
     "data": {
      "image/png": "[encoded data removed]",
      "text/plain": [
       "plot without title"
      ]
     },
     "metadata": {
      "image/png": {
       "height": 420,
       "width": 420
      },
      "text/plain": {
       "height": 420,
       "width": 420
      }
     },
     "output_type": "display_data"
    }
   ],
   "source": [
    "# --------- 1 variable model -------------------------------#\n",
    "\n",
    "mydata <- read.csv(file=\"Ex1LS2.csv\", header=TRUE, sep=\",\")\n",
    "model <- lm( Y ~ X1 ,mydata)\n",
    "model$coefficients\n",
    "\n",
    "p <- ggplot(data = mydata, aes(x= X1, y= Y)) + geom_point() + geom_smooth(method = 'lm', se = FALSE)\n",
    "p\n",
    "\n",
    "Y <- mydata$Y\n",
    "X <- mydata$X1\n",
    "X <- as.matrix(cbind(1, X))\n",
    "\n",
    "res <- QR.regression(Y, X)\n",
    "\n",
    "res$beta\n",
    "\n",
    "library(pracma)\n",
    "\n",
    "R <- round(res$R,2)\n",
    "\n"
   ]
  },
  {
   "cell_type": "code",
   "execution_count": 10,
   "metadata": {},
   "outputs": [
    {
     "data": {
      "text/html": [
       "<dl class=dl-horizontal>\n",
       "\t<dt>(Intercept)</dt>\n",
       "\t\t<dd>2.79850746268657</dd>\n",
       "\t<dt>X1</dt>\n",
       "\t\t<dd>0.0671641791044776</dd>\n",
       "\t<dt>X2</dt>\n",
       "\t\t<dd>0.701492537313433</dd>\n",
       "</dl>\n"
      ],
      "text/latex": [
       "\\begin{description*}\n",
       "\\item[(Intercept)] 2.79850746268657\n",
       "\\item[X1] 0.0671641791044776\n",
       "\\item[X2] 0.701492537313433\n",
       "\\end{description*}\n"
      ],
      "text/markdown": [
       "(Intercept)\n",
       ":   2.79850746268657X1\n",
       ":   0.0671641791044776X2\n",
       ":   0.701492537313433\n",
       "\n"
      ],
      "text/plain": [
       "(Intercept)          X1          X2 \n",
       " 2.79850746  0.06716418  0.70149254 "
      ]
     },
     "metadata": {},
     "output_type": "display_data"
    },
    {
     "data": {
      "text/html": [
       "<ol class=list-inline>\n",
       "\t<li>2.79850746268657</li>\n",
       "\t<li>0.0671641791044773</li>\n",
       "\t<li>0.701492537313433</li>\n",
       "</ol>\n"
      ],
      "text/latex": [
       "\\begin{enumerate*}\n",
       "\\item 2.79850746268657\n",
       "\\item 0.0671641791044773\n",
       "\\item 0.701492537313433\n",
       "\\end{enumerate*}\n"
      ],
      "text/markdown": [
       "1. 2.79850746268657\n",
       "2. 0.0671641791044773\n",
       "3. 0.701492537313433\n",
       "\n",
       "\n"
      ],
      "text/plain": [
       "[1] 2.79850746 0.06716418 0.70149254"
      ]
     },
     "metadata": {},
     "output_type": "display_data"
    },
    {
     "data": {
      "text/html": [
       "<table>\n",
       "<thead><tr><th scope=col></th><th scope=col>X1</th><th scope=col>X2</th></tr></thead>\n",
       "<tbody>\n",
       "\t<tr><td>-2        </td><td>-5.000000 </td><td>-11.500000</td></tr>\n",
       "\t<tr><td> 0        </td><td>-2.236068 </td><td> -4.248529</td></tr>\n",
       "\t<tr><td> 0        </td><td> 0.000000 </td><td>  2.588436</td></tr>\n",
       "</tbody>\n",
       "</table>\n"
      ],
      "text/latex": [
       "\\begin{tabular}{lll}\n",
       "  & X1 & X2\\\\\n",
       "\\hline\n",
       "\t -2         & -5.000000  & -11.500000\\\\\n",
       "\t  0         & -2.236068  &  -4.248529\\\\\n",
       "\t  0         &  0.000000  &   2.588436\\\\\n",
       "\\end{tabular}\n"
      ],
      "text/markdown": [
       "\n",
       "|  | X1 | X2 |\n",
       "|---|---|---|\n",
       "| -2         | -5.000000  | -11.500000 |\n",
       "|  0         | -2.236068  |  -4.248529 |\n",
       "|  0         |  0.000000  |   2.588436 |\n",
       "\n"
      ],
      "text/plain": [
       "        X1        X2        \n",
       "[1,] -2 -5.000000 -11.500000\n",
       "[2,]  0 -2.236068  -4.248529\n",
       "[3,]  0  0.000000   2.588436"
      ]
     },
     "metadata": {},
     "output_type": "display_data"
    },
    {
     "data": {
      "image/png": "[encoded data removed]",
      "text/plain": [
       "plot without title"
      ]
     },
     "metadata": {
      "image/png": {
       "height": 420,
       "width": 420
      },
      "text/plain": {
       "height": 420,
       "width": 420
      }
     },
     "output_type": "display_data"
    }
   ],
   "source": [
    "\n",
    "# ----------------- 2 variable model ---------------------- #\n",
    "\n",
    "mydata <- read.csv(file=\"Ex1LS2.csv\", header=TRUE, sep=\",\")\n",
    "\n",
    "model <- lm( Y ~ ., mydata)\n",
    "model$coefficients\n",
    "\n",
    "\n",
    "X <- mydata[1:2]\n",
    "\n",
    "p <- ggplot(data = mydata, aes(x= X2, y= Y)) + geom_point() + geom_smooth(method = 'lm', se = FALSE) \n",
    "p\n",
    "\n",
    "Y <- mydata$Y\n",
    "X <- mydata[1:2]\n",
    "X <- as.matrix(X)\n",
    "X <- as.matrix(cbind(1, X))\n",
    "\n",
    "res <- QR.regression(Y, X)\n",
    "res$beta\n",
    "res$R\n",
    "\n",
    "house <- householder(X)\n",
    "Q2 <- round(as.matrix(house$Q),5)\n",
    "R2 <- round(as.matrix(house$R),5)\n"
   ]
  },
  {
   "cell_type": "code",
   "execution_count": 11,
   "metadata": {},
   "outputs": [
    {
     "data": {
      "text/html": [
       "<dl class=dl-horizontal>\n",
       "\t<dt>(Intercept)</dt>\n",
       "\t\t<dd>-32094.2919872874</dd>\n",
       "\t<dt>wheel.base</dt>\n",
       "\t\t<dd>230.893120047467</dd>\n",
       "\t<dt>engine.size</dt>\n",
       "\t\t<dd>109.395903116209</dd>\n",
       "\t<dt>horsepower</dt>\n",
       "\t\t<dd>65.8101106048046</dd>\n",
       "\t<dt>highway.mpg</dt>\n",
       "\t\t<dd>55.6085857299627</dd>\n",
       "</dl>\n"
      ],
      "text/latex": [
       "\\begin{description*}\n",
       "\\item[(Intercept)] -32094.2919872874\n",
       "\\item[wheel.base] 230.893120047467\n",
       "\\item[engine.size] 109.395903116209\n",
       "\\item[horsepower] 65.8101106048046\n",
       "\\item[highway.mpg] 55.6085857299627\n",
       "\\end{description*}\n"
      ],
      "text/markdown": [
       "(Intercept)\n",
       ":   -32094.2919872874wheel.base\n",
       ":   230.893120047467engine.size\n",
       ":   109.395903116209horsepower\n",
       ":   65.8101106048046highway.mpg\n",
       ":   55.6085857299627\n",
       "\n"
      ],
      "text/plain": [
       " (Intercept)   wheel.base  engine.size   horsepower  highway.mpg \n",
       "-32094.29199    230.89312    109.39590     65.81011     55.60859 "
      ]
     },
     "metadata": {},
     "output_type": "display_data"
    },
    {
     "data": {
      "text/html": [
       "<ol class=list-inline>\n",
       "\t<li>-32094.2919872873</li>\n",
       "\t<li>230.893120047467</li>\n",
       "\t<li>109.395903116209</li>\n",
       "\t<li>65.8101106048045</li>\n",
       "\t<li>55.6085857299625</li>\n",
       "</ol>\n"
      ],
      "text/latex": [
       "\\begin{enumerate*}\n",
       "\\item -32094.2919872873\n",
       "\\item 230.893120047467\n",
       "\\item 109.395903116209\n",
       "\\item 65.8101106048045\n",
       "\\item 55.6085857299625\n",
       "\\end{enumerate*}\n"
      ],
      "text/markdown": [
       "1. -32094.2919872873\n",
       "2. 230.893120047467\n",
       "3. 109.395903116209\n",
       "4. 65.8101106048045\n",
       "5. 55.6085857299625\n",
       "\n",
       "\n"
      ],
      "text/plain": [
       "[1] -32094.29199    230.89312    109.39590     65.81011     55.60859"
      ]
     },
     "metadata": {},
     "output_type": "display_data"
    },
    {
     "data": {
      "image/png": "[encoded data removed]",
      "text/plain": [
       "plot without title"
      ]
     },
     "metadata": {
      "image/png": {
       "height": 420,
       "width": 420
      },
      "text/plain": {
       "height": 420,
       "width": 420
      }
     },
     "output_type": "display_data"
    }
   ],
   "source": [
    "# ------------------ auto regression ---------------#\n",
    "\n",
    "Autos <- read.csv(file=\"Automobile Price Prediction.csv\")\n",
    "Autos <- select(Autos, wheel.base, engine.size, horsepower, highway.mpg, price )\n",
    "\n",
    "model <- lm( price ~ ., Autos)\n",
    "\n",
    "model$coefficients\n",
    "\n",
    "p <- ggplot(data = Autos, aes(x= horsepower, y= price)) + geom_point() + geom_smooth(method = 'lm', se = FALSE) \n",
    "p\n",
    "\n",
    "Y <- Autos$price\n",
    "X <- Autos[1:4]\n",
    "X <- as.matrix(X)\n",
    "X <- as.matrix(cbind(1, X))\n",
    "\n",
    "res <- QR.regression(Y, X)\n",
    "res$beta\n",
    "\n",
    "R <- res$R\n"
   ]
  },
  {
   "cell_type": "code",
   "execution_count": null,
   "metadata": {},
   "outputs": [],
   "source": []
  }
 ],
 "metadata": {
  "kernelspec": {
   "display_name": "R",
   "language": "R",
   "name": "ir"
  },
  "language_info": {
   "codemirror_mode": "r",
   "file_extension": ".r",
   "mimetype": "text/x-r-source",
   "name": "R",
   "pygments_lexer": "r",
   "version": "3.6.1"
  }
 },
 "nbformat": 4,
 "nbformat_minor": 2
}
